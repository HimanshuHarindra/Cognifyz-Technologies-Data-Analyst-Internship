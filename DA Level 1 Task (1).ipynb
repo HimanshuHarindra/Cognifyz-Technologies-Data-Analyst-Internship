{
 "cells": [
  {
   "cell_type": "markdown",
   "id": "c1afcd83-98f8-45e8-93d4-6f5a12137499",
   "metadata": {},
   "source": [
    "# Cognifyz Technologies Data Analyst Intership #"
   ]
  },
  {
   "cell_type": "code",
   "execution_count": 1,
   "id": "2e645f4f-f395-44e6-b246-788a8011bb64",
   "metadata": {},
   "outputs": [],
   "source": [
    "import pandas as pd\n",
    "import numpy as np\n",
    "import seaborn as sns\n",
    "import matplotlib.pyplot as plt"
   ]
  },
  {
   "cell_type": "code",
   "execution_count": 2,
   "id": "e857e43c-e707-43b6-956f-4b7e1fc7b1fc",
   "metadata": {},
   "outputs": [
    {
     "data": {
      "text/html": [
       "<div>\n",
       "<style scoped>\n",
       "    .dataframe tbody tr th:only-of-type {\n",
       "        vertical-align: middle;\n",
       "    }\n",
       "\n",
       "    .dataframe tbody tr th {\n",
       "        vertical-align: top;\n",
       "    }\n",
       "\n",
       "    .dataframe thead th {\n",
       "        text-align: right;\n",
       "    }\n",
       "</style>\n",
       "<table border=\"1\" class=\"dataframe\">\n",
       "  <thead>\n",
       "    <tr style=\"text-align: right;\">\n",
       "      <th></th>\n",
       "      <th>Restaurant ID</th>\n",
       "      <th>Restaurant Name</th>\n",
       "      <th>Country Code</th>\n",
       "      <th>City</th>\n",
       "      <th>Address</th>\n",
       "      <th>Locality</th>\n",
       "      <th>Locality Verbose</th>\n",
       "      <th>Longitude</th>\n",
       "      <th>Latitude</th>\n",
       "      <th>Cuisines</th>\n",
       "      <th>...</th>\n",
       "      <th>Currency</th>\n",
       "      <th>Has Table booking</th>\n",
       "      <th>Has Online delivery</th>\n",
       "      <th>Is delivering now</th>\n",
       "      <th>Switch to order menu</th>\n",
       "      <th>Price range</th>\n",
       "      <th>Aggregate rating</th>\n",
       "      <th>Rating color</th>\n",
       "      <th>Rating text</th>\n",
       "      <th>Votes</th>\n",
       "    </tr>\n",
       "  </thead>\n",
       "  <tbody>\n",
       "    <tr>\n",
       "      <th>0</th>\n",
       "      <td>6317637</td>\n",
       "      <td>Le Petit Souffle</td>\n",
       "      <td>162</td>\n",
       "      <td>Makati City</td>\n",
       "      <td>Third Floor, Century City Mall, Kalayaan Avenu...</td>\n",
       "      <td>Century City Mall, Poblacion, Makati City</td>\n",
       "      <td>Century City Mall, Poblacion, Makati City, Mak...</td>\n",
       "      <td>121.027535</td>\n",
       "      <td>14.565443</td>\n",
       "      <td>French, Japanese, Desserts</td>\n",
       "      <td>...</td>\n",
       "      <td>Botswana Pula(P)</td>\n",
       "      <td>Yes</td>\n",
       "      <td>No</td>\n",
       "      <td>No</td>\n",
       "      <td>No</td>\n",
       "      <td>3</td>\n",
       "      <td>4.8</td>\n",
       "      <td>Dark Green</td>\n",
       "      <td>Excellent</td>\n",
       "      <td>314</td>\n",
       "    </tr>\n",
       "    <tr>\n",
       "      <th>1</th>\n",
       "      <td>6304287</td>\n",
       "      <td>Izakaya Kikufuji</td>\n",
       "      <td>162</td>\n",
       "      <td>Makati City</td>\n",
       "      <td>Little Tokyo, 2277 Chino Roces Avenue, Legaspi...</td>\n",
       "      <td>Little Tokyo, Legaspi Village, Makati City</td>\n",
       "      <td>Little Tokyo, Legaspi Village, Makati City, Ma...</td>\n",
       "      <td>121.014101</td>\n",
       "      <td>14.553708</td>\n",
       "      <td>Japanese</td>\n",
       "      <td>...</td>\n",
       "      <td>Botswana Pula(P)</td>\n",
       "      <td>Yes</td>\n",
       "      <td>No</td>\n",
       "      <td>No</td>\n",
       "      <td>No</td>\n",
       "      <td>3</td>\n",
       "      <td>4.5</td>\n",
       "      <td>Dark Green</td>\n",
       "      <td>Excellent</td>\n",
       "      <td>591</td>\n",
       "    </tr>\n",
       "    <tr>\n",
       "      <th>2</th>\n",
       "      <td>6300002</td>\n",
       "      <td>Heat - Edsa Shangri-La</td>\n",
       "      <td>162</td>\n",
       "      <td>Mandaluyong City</td>\n",
       "      <td>Edsa Shangri-La, 1 Garden Way, Ortigas, Mandal...</td>\n",
       "      <td>Edsa Shangri-La, Ortigas, Mandaluyong City</td>\n",
       "      <td>Edsa Shangri-La, Ortigas, Mandaluyong City, Ma...</td>\n",
       "      <td>121.056831</td>\n",
       "      <td>14.581404</td>\n",
       "      <td>Seafood, Asian, Filipino, Indian</td>\n",
       "      <td>...</td>\n",
       "      <td>Botswana Pula(P)</td>\n",
       "      <td>Yes</td>\n",
       "      <td>No</td>\n",
       "      <td>No</td>\n",
       "      <td>No</td>\n",
       "      <td>4</td>\n",
       "      <td>4.4</td>\n",
       "      <td>Green</td>\n",
       "      <td>Very Good</td>\n",
       "      <td>270</td>\n",
       "    </tr>\n",
       "    <tr>\n",
       "      <th>3</th>\n",
       "      <td>6318506</td>\n",
       "      <td>Ooma</td>\n",
       "      <td>162</td>\n",
       "      <td>Mandaluyong City</td>\n",
       "      <td>Third Floor, Mega Fashion Hall, SM Megamall, O...</td>\n",
       "      <td>SM Megamall, Ortigas, Mandaluyong City</td>\n",
       "      <td>SM Megamall, Ortigas, Mandaluyong City, Mandal...</td>\n",
       "      <td>121.056475</td>\n",
       "      <td>14.585318</td>\n",
       "      <td>Japanese, Sushi</td>\n",
       "      <td>...</td>\n",
       "      <td>Botswana Pula(P)</td>\n",
       "      <td>No</td>\n",
       "      <td>No</td>\n",
       "      <td>No</td>\n",
       "      <td>No</td>\n",
       "      <td>4</td>\n",
       "      <td>4.9</td>\n",
       "      <td>Dark Green</td>\n",
       "      <td>Excellent</td>\n",
       "      <td>365</td>\n",
       "    </tr>\n",
       "    <tr>\n",
       "      <th>4</th>\n",
       "      <td>6314302</td>\n",
       "      <td>Sambo Kojin</td>\n",
       "      <td>162</td>\n",
       "      <td>Mandaluyong City</td>\n",
       "      <td>Third Floor, Mega Atrium, SM Megamall, Ortigas...</td>\n",
       "      <td>SM Megamall, Ortigas, Mandaluyong City</td>\n",
       "      <td>SM Megamall, Ortigas, Mandaluyong City, Mandal...</td>\n",
       "      <td>121.057508</td>\n",
       "      <td>14.584450</td>\n",
       "      <td>Japanese, Korean</td>\n",
       "      <td>...</td>\n",
       "      <td>Botswana Pula(P)</td>\n",
       "      <td>Yes</td>\n",
       "      <td>No</td>\n",
       "      <td>No</td>\n",
       "      <td>No</td>\n",
       "      <td>4</td>\n",
       "      <td>4.8</td>\n",
       "      <td>Dark Green</td>\n",
       "      <td>Excellent</td>\n",
       "      <td>229</td>\n",
       "    </tr>\n",
       "  </tbody>\n",
       "</table>\n",
       "<p>5 rows × 21 columns</p>\n",
       "</div>"
      ],
      "text/plain": [
       "   Restaurant ID         Restaurant Name  Country Code              City  \\\n",
       "0        6317637        Le Petit Souffle           162       Makati City   \n",
       "1        6304287        Izakaya Kikufuji           162       Makati City   \n",
       "2        6300002  Heat - Edsa Shangri-La           162  Mandaluyong City   \n",
       "3        6318506                    Ooma           162  Mandaluyong City   \n",
       "4        6314302             Sambo Kojin           162  Mandaluyong City   \n",
       "\n",
       "                                             Address  \\\n",
       "0  Third Floor, Century City Mall, Kalayaan Avenu...   \n",
       "1  Little Tokyo, 2277 Chino Roces Avenue, Legaspi...   \n",
       "2  Edsa Shangri-La, 1 Garden Way, Ortigas, Mandal...   \n",
       "3  Third Floor, Mega Fashion Hall, SM Megamall, O...   \n",
       "4  Third Floor, Mega Atrium, SM Megamall, Ortigas...   \n",
       "\n",
       "                                     Locality  \\\n",
       "0   Century City Mall, Poblacion, Makati City   \n",
       "1  Little Tokyo, Legaspi Village, Makati City   \n",
       "2  Edsa Shangri-La, Ortigas, Mandaluyong City   \n",
       "3      SM Megamall, Ortigas, Mandaluyong City   \n",
       "4      SM Megamall, Ortigas, Mandaluyong City   \n",
       "\n",
       "                                    Locality Verbose   Longitude   Latitude  \\\n",
       "0  Century City Mall, Poblacion, Makati City, Mak...  121.027535  14.565443   \n",
       "1  Little Tokyo, Legaspi Village, Makati City, Ma...  121.014101  14.553708   \n",
       "2  Edsa Shangri-La, Ortigas, Mandaluyong City, Ma...  121.056831  14.581404   \n",
       "3  SM Megamall, Ortigas, Mandaluyong City, Mandal...  121.056475  14.585318   \n",
       "4  SM Megamall, Ortigas, Mandaluyong City, Mandal...  121.057508  14.584450   \n",
       "\n",
       "                           Cuisines  ...          Currency Has Table booking  \\\n",
       "0        French, Japanese, Desserts  ...  Botswana Pula(P)               Yes   \n",
       "1                          Japanese  ...  Botswana Pula(P)               Yes   \n",
       "2  Seafood, Asian, Filipino, Indian  ...  Botswana Pula(P)               Yes   \n",
       "3                   Japanese, Sushi  ...  Botswana Pula(P)                No   \n",
       "4                  Japanese, Korean  ...  Botswana Pula(P)               Yes   \n",
       "\n",
       "  Has Online delivery Is delivering now Switch to order menu Price range  \\\n",
       "0                  No                No                   No           3   \n",
       "1                  No                No                   No           3   \n",
       "2                  No                No                   No           4   \n",
       "3                  No                No                   No           4   \n",
       "4                  No                No                   No           4   \n",
       "\n",
       "   Aggregate rating  Rating color Rating text Votes  \n",
       "0               4.8    Dark Green   Excellent   314  \n",
       "1               4.5    Dark Green   Excellent   591  \n",
       "2               4.4         Green   Very Good   270  \n",
       "3               4.9    Dark Green   Excellent   365  \n",
       "4               4.8    Dark Green   Excellent   229  \n",
       "\n",
       "[5 rows x 21 columns]"
      ]
     },
     "execution_count": 2,
     "metadata": {},
     "output_type": "execute_result"
    }
   ],
   "source": [
    "df = pd.read_csv('Dataset .csv')\n",
    "df.head()"
   ]
  },
  {
   "cell_type": "code",
   "execution_count": 3,
   "id": "ee32a067-9d4b-44c0-874d-4134997e35e9",
   "metadata": {},
   "outputs": [
    {
     "name": "stdout",
     "output_type": "stream",
     "text": [
      "<class 'pandas.core.frame.DataFrame'>\n",
      "RangeIndex: 9551 entries, 0 to 9550\n",
      "Data columns (total 21 columns):\n",
      " #   Column                Non-Null Count  Dtype  \n",
      "---  ------                --------------  -----  \n",
      " 0   Restaurant ID         9551 non-null   int64  \n",
      " 1   Restaurant Name       9551 non-null   object \n",
      " 2   Country Code          9551 non-null   int64  \n",
      " 3   City                  9551 non-null   object \n",
      " 4   Address               9551 non-null   object \n",
      " 5   Locality              9551 non-null   object \n",
      " 6   Locality Verbose      9551 non-null   object \n",
      " 7   Longitude             9551 non-null   float64\n",
      " 8   Latitude              9551 non-null   float64\n",
      " 9   Cuisines              9542 non-null   object \n",
      " 10  Average Cost for two  9551 non-null   int64  \n",
      " 11  Currency              9551 non-null   object \n",
      " 12  Has Table booking     9551 non-null   object \n",
      " 13  Has Online delivery   9551 non-null   object \n",
      " 14  Is delivering now     9551 non-null   object \n",
      " 15  Switch to order menu  9551 non-null   object \n",
      " 16  Price range           9551 non-null   int64  \n",
      " 17  Aggregate rating      9551 non-null   float64\n",
      " 18  Rating color          9551 non-null   object \n",
      " 19  Rating text           9551 non-null   object \n",
      " 20  Votes                 9551 non-null   int64  \n",
      "dtypes: float64(3), int64(5), object(13)\n",
      "memory usage: 1.5+ MB\n"
     ]
    }
   ],
   "source": [
    "df.info()"
   ]
  },
  {
   "cell_type": "code",
   "execution_count": 4,
   "id": "0f243606-76d6-44a0-98f4-d4da4ba09786",
   "metadata": {},
   "outputs": [
    {
     "data": {
      "text/plain": [
       "Restaurant ID           0\n",
       "Restaurant Name         0\n",
       "Country Code            0\n",
       "City                    0\n",
       "Address                 0\n",
       "Locality                0\n",
       "Locality Verbose        0\n",
       "Longitude               0\n",
       "Latitude                0\n",
       "Cuisines                9\n",
       "Average Cost for two    0\n",
       "Currency                0\n",
       "Has Table booking       0\n",
       "Has Online delivery     0\n",
       "Is delivering now       0\n",
       "Switch to order menu    0\n",
       "Price range             0\n",
       "Aggregate rating        0\n",
       "Rating color            0\n",
       "Rating text             0\n",
       "Votes                   0\n",
       "dtype: int64"
      ]
     },
     "execution_count": 4,
     "metadata": {},
     "output_type": "execute_result"
    }
   ],
   "source": [
    "df.isnull().sum()"
   ]
  },
  {
   "cell_type": "code",
   "execution_count": 5,
   "id": "1f09e621-a699-4436-80ac-82579b2a8599",
   "metadata": {},
   "outputs": [
    {
     "data": {
      "text/plain": [
       "np.int64(0)"
      ]
     },
     "execution_count": 5,
     "metadata": {},
     "output_type": "execute_result"
    }
   ],
   "source": [
    "df['Restaurant ID'].duplicated().sum()"
   ]
  },
  {
   "cell_type": "code",
   "execution_count": 6,
   "id": "e9202ddc-a499-4600-8d8b-4d97e26049f9",
   "metadata": {},
   "outputs": [
    {
     "data": {
      "text/html": [
       "<div>\n",
       "<style scoped>\n",
       "    .dataframe tbody tr th:only-of-type {\n",
       "        vertical-align: middle;\n",
       "    }\n",
       "\n",
       "    .dataframe tbody tr th {\n",
       "        vertical-align: top;\n",
       "    }\n",
       "\n",
       "    .dataframe thead th {\n",
       "        text-align: right;\n",
       "    }\n",
       "</style>\n",
       "<table border=\"1\" class=\"dataframe\">\n",
       "  <thead>\n",
       "    <tr style=\"text-align: right;\">\n",
       "      <th></th>\n",
       "      <th>Restaurant ID</th>\n",
       "      <th>Country Code</th>\n",
       "      <th>Longitude</th>\n",
       "      <th>Latitude</th>\n",
       "      <th>Average Cost for two</th>\n",
       "      <th>Price range</th>\n",
       "      <th>Aggregate rating</th>\n",
       "      <th>Votes</th>\n",
       "    </tr>\n",
       "  </thead>\n",
       "  <tbody>\n",
       "    <tr>\n",
       "      <th>count</th>\n",
       "      <td>9.551000e+03</td>\n",
       "      <td>9551.000000</td>\n",
       "      <td>9551.000000</td>\n",
       "      <td>9551.000000</td>\n",
       "      <td>9551.000000</td>\n",
       "      <td>9551.000000</td>\n",
       "      <td>9551.000000</td>\n",
       "      <td>9551.000000</td>\n",
       "    </tr>\n",
       "    <tr>\n",
       "      <th>mean</th>\n",
       "      <td>9.051128e+06</td>\n",
       "      <td>18.365616</td>\n",
       "      <td>64.126574</td>\n",
       "      <td>25.854381</td>\n",
       "      <td>1199.210763</td>\n",
       "      <td>1.804837</td>\n",
       "      <td>2.666370</td>\n",
       "      <td>156.909748</td>\n",
       "    </tr>\n",
       "    <tr>\n",
       "      <th>std</th>\n",
       "      <td>8.791521e+06</td>\n",
       "      <td>56.750546</td>\n",
       "      <td>41.467058</td>\n",
       "      <td>11.007935</td>\n",
       "      <td>16121.183073</td>\n",
       "      <td>0.905609</td>\n",
       "      <td>1.516378</td>\n",
       "      <td>430.169145</td>\n",
       "    </tr>\n",
       "    <tr>\n",
       "      <th>min</th>\n",
       "      <td>5.300000e+01</td>\n",
       "      <td>1.000000</td>\n",
       "      <td>-157.948486</td>\n",
       "      <td>-41.330428</td>\n",
       "      <td>0.000000</td>\n",
       "      <td>1.000000</td>\n",
       "      <td>0.000000</td>\n",
       "      <td>0.000000</td>\n",
       "    </tr>\n",
       "    <tr>\n",
       "      <th>25%</th>\n",
       "      <td>3.019625e+05</td>\n",
       "      <td>1.000000</td>\n",
       "      <td>77.081343</td>\n",
       "      <td>28.478713</td>\n",
       "      <td>250.000000</td>\n",
       "      <td>1.000000</td>\n",
       "      <td>2.500000</td>\n",
       "      <td>5.000000</td>\n",
       "    </tr>\n",
       "    <tr>\n",
       "      <th>50%</th>\n",
       "      <td>6.004089e+06</td>\n",
       "      <td>1.000000</td>\n",
       "      <td>77.191964</td>\n",
       "      <td>28.570469</td>\n",
       "      <td>400.000000</td>\n",
       "      <td>2.000000</td>\n",
       "      <td>3.200000</td>\n",
       "      <td>31.000000</td>\n",
       "    </tr>\n",
       "    <tr>\n",
       "      <th>75%</th>\n",
       "      <td>1.835229e+07</td>\n",
       "      <td>1.000000</td>\n",
       "      <td>77.282006</td>\n",
       "      <td>28.642758</td>\n",
       "      <td>700.000000</td>\n",
       "      <td>2.000000</td>\n",
       "      <td>3.700000</td>\n",
       "      <td>131.000000</td>\n",
       "    </tr>\n",
       "    <tr>\n",
       "      <th>max</th>\n",
       "      <td>1.850065e+07</td>\n",
       "      <td>216.000000</td>\n",
       "      <td>174.832089</td>\n",
       "      <td>55.976980</td>\n",
       "      <td>800000.000000</td>\n",
       "      <td>4.000000</td>\n",
       "      <td>4.900000</td>\n",
       "      <td>10934.000000</td>\n",
       "    </tr>\n",
       "  </tbody>\n",
       "</table>\n",
       "</div>"
      ],
      "text/plain": [
       "       Restaurant ID  Country Code    Longitude     Latitude  \\\n",
       "count   9.551000e+03   9551.000000  9551.000000  9551.000000   \n",
       "mean    9.051128e+06     18.365616    64.126574    25.854381   \n",
       "std     8.791521e+06     56.750546    41.467058    11.007935   \n",
       "min     5.300000e+01      1.000000  -157.948486   -41.330428   \n",
       "25%     3.019625e+05      1.000000    77.081343    28.478713   \n",
       "50%     6.004089e+06      1.000000    77.191964    28.570469   \n",
       "75%     1.835229e+07      1.000000    77.282006    28.642758   \n",
       "max     1.850065e+07    216.000000   174.832089    55.976980   \n",
       "\n",
       "       Average Cost for two  Price range  Aggregate rating         Votes  \n",
       "count           9551.000000  9551.000000       9551.000000   9551.000000  \n",
       "mean            1199.210763     1.804837          2.666370    156.909748  \n",
       "std            16121.183073     0.905609          1.516378    430.169145  \n",
       "min                0.000000     1.000000          0.000000      0.000000  \n",
       "25%              250.000000     1.000000          2.500000      5.000000  \n",
       "50%              400.000000     2.000000          3.200000     31.000000  \n",
       "75%              700.000000     2.000000          3.700000    131.000000  \n",
       "max           800000.000000     4.000000          4.900000  10934.000000  "
      ]
     },
     "execution_count": 6,
     "metadata": {},
     "output_type": "execute_result"
    }
   ],
   "source": [
    "df.describe()"
   ]
  },
  {
   "cell_type": "code",
   "execution_count": 7,
   "id": "01a750bb-7175-4755-a57e-d16cb35300bf",
   "metadata": {},
   "outputs": [
    {
     "data": {
      "text/plain": [
       "CategoricalDtype(categories=['Afghani', 'Afghani, Mughlai, Chinese',\n",
       "                  'Afghani, North Indian',\n",
       "                  'Afghani, North Indian, Pakistani, Arabian', 'African',\n",
       "                  'African, Portuguese', 'American', 'American, Asian, Burger',\n",
       "                  'American, Asian, European, Seafood',\n",
       "                  'American, Asian, Italian, Seafood',\n",
       "                  ...\n",
       "                  'Turkish, Arabian, Middle Eastern',\n",
       "                  'Turkish, Arabian, Moroccan, Lebanese',\n",
       "                  'Turkish, Mediterranean, Middle Eastern', 'Vietnamese',\n",
       "                  'Vietnamese, Fish and Chips', 'Western, Asian, Cafe',\n",
       "                  'Western, Fusion, Fast Food', 'World Cuisine',\n",
       "                  'World Cuisine, Mexican, Italian',\n",
       "                  'World Cuisine, Patisserie, Cafe'],\n",
       ", ordered=False, categories_dtype=object)"
      ]
     },
     "execution_count": 7,
     "metadata": {},
     "output_type": "execute_result"
    }
   ],
   "source": [
    "df['Cuisines']=df['Cuisines'].astype('category')\n",
    "\n",
    "df['Cuisines'].dtypes"
   ]
  },
  {
   "cell_type": "markdown",
   "id": "105be595-83de-41a5-b295-f129320558ce",
   "metadata": {},
   "source": [
    "# Task 1: Top Cuisines #\n",
    "**Determine top 3 most common cuisines**"
   ]
  },
  {
   "cell_type": "code",
   "execution_count": 8,
   "id": "d0748050-334e-4730-a706-72602e21db7f",
   "metadata": {},
   "outputs": [
    {
     "name": "stdout",
     "output_type": "stream",
     "text": [
      "Top 3 Cuisines:\n",
      "Cuisines\n",
      "North Indian    3960\n",
      "Chinese         2735\n",
      "Fast Food       1986\n",
      "Name: count, dtype: int64\n"
     ]
    }
   ],
   "source": [
    "cuisine_series = df['Cuisines'].dropna().str.split(',').explode().str.strip()\n",
    "\n",
    "# Get top 3 cuisines\n",
    "top_cuisines = cuisine_series.value_counts().head(3)\n",
    "\n",
    "# Print result\n",
    "print(\"Top 3 Cuisines:\")\n",
    "print(top_cuisines)"
   ]
  },
  {
   "cell_type": "code",
   "execution_count": 9,
   "id": "4b2841bb-b122-4c16-9acb-7829c91ca097",
   "metadata": {},
   "outputs": [
    {
     "data": {
      "image/png": "[encoded data removed]",
      "text/plain": [
       "<Figure size 500x500 with 1 Axes>"
      ]
     },
     "metadata": {},
     "output_type": "display_data"
    }
   ],
   "source": [
    "plt.figure(figsize=(5,5))\n",
    "colours=['Green','Red','Brown']\n",
    "plt.bar(top_cuisines.index,top_cuisines.values,color=colours)\n",
    "plt.xlabel(\"Cuisines\")\n",
    "plt.ylabel(\"Count\")\n",
    "plt.title(\"Top 3 Cuisines\")\n",
    "plt.show()"
   ]
  },
  {
   "cell_type": "markdown",
   "id": "6d10bb39-b8f2-4506-a66b-b08af465efad",
   "metadata": {},
   "source": [
    "**Calculate the percentage of restaurants that serve each of the top cuisines.**"
   ]
  },
  {
   "cell_type": "code",
   "execution_count": 10,
   "id": "b780f47f-3054-4c5a-acd6-4f29236bdc74",
   "metadata": {},
   "outputs": [
    {
     "name": "stdout",
     "output_type": "stream",
     "text": [
      "9551\n",
      "The market share of top 5 Cuisines are:  Cuisines\n",
      "North Indian    41.461627\n",
      "Chinese         28.635745\n",
      "Fast Food       20.793634\n",
      "Mughlai         10.417757\n",
      "Italian          7.999162\n",
      "Name: count, dtype: float64\n"
     ]
    }
   ],
   "source": [
    "total_restaurant=len(df)\n",
    "print(total_restaurant)\n",
    "top_cuisines=cuisine_series.value_counts().head()\n",
    "percentages=(top_cuisines/total_restaurant)*100\n",
    "print(\"The market share of top 5 Cuisines are: \", percentages)"
   ]
  },
  {
   "cell_type": "code",
   "execution_count": 11,
   "id": "a01c772c-6738-4e73-8594-057331a3d75e",
   "metadata": {},
   "outputs": [
    {
     "data": {
      "image/png": "[encoded data removed]",
      "text/plain": [
       "<Figure size 500x500 with 1 Axes>"
      ]
     },
     "metadata": {},
     "output_type": "display_data"
    }
   ],
   "source": [
    "plt.figure(figsize=(5,5))\n",
    "plt.bar(top_cuisines.index, percentages.values, color=colours)\n",
    "plt.xlabel(\"Cuisine Name\")\n",
    "plt.ylabel(\"Percentage\")\n",
    "plt.title(\"Top 5 Cuisines %\")\n",
    "plt.show()"
   ]
  },
  {
   "cell_type": "markdown",
   "id": "34063fe5-42bf-4e94-94e4-41576b4a4311",
   "metadata": {},
   "source": [
    "# Task 2: City Analysis #\n",
    "**Identify the city with the highest number of restaurants in the dataset.**\n"
   ]
  },
  {
   "cell_type": "code",
   "execution_count": 20,
   "id": "115801b4-ca35-4f33-bf31-149cf65bde96",
   "metadata": {},
   "outputs": [
    {
     "name": "stdout",
     "output_type": "stream",
     "text": [
      "The city with the highest number of restaurants is New Delhi with 5473 restaurants.\n"
     ]
    }
   ],
   "source": [
    "# Step 1: Group by city and count the number of restaurants in each city\n",
    "city_counts = df['City'].value_counts()\n",
    "\n",
    "# Step 2: Identify the city with the highest number of restaurants\n",
    "city_with_max_restaurants = city_counts.idxmax()\n",
    "max_restaurant_count = city_counts.max()\n",
    "\n",
    "# Output the result\n",
    "print(f\"The city with the highest number of restaurants is {city_with_max_restaurants} with {max_restaurant_count} restaurants.\")"
   ]
  },
  {
   "cell_type": "markdown",
   "id": "8156a09c-82f2-4183-bdc9-da6f436fd936",
   "metadata": {},
   "source": [
    "**Calculate the average rating for restaurants in each city.**"
   ]
  },
  {
   "cell_type": "code",
   "execution_count": 13,
   "id": "4cbbdeb7-d7d6-49fc-b7a6-0519733153d9",
   "metadata": {},
   "outputs": [
    {
     "name": "stdout",
     "output_type": "stream",
     "text": [
      "Average rating for restaurants in each city:\n",
      "City\n",
      "Abu Dhabi          4.30\n",
      "Agra               3.96\n",
      "Ahmedabad          4.16\n",
      "Albany             3.56\n",
      "Allahabad          3.40\n",
      "                   ... \n",
      "Weirton            3.90\n",
      "Wellington City    4.25\n",
      "Winchester Bay     3.20\n",
      "Yorkton            3.30\n",
      "��stanbul          4.29\n",
      "Name: Aggregate rating, Length: 141, dtype: float64\n"
     ]
    }
   ],
   "source": [
    "# Step 1: Group by city and calculate the average rating\n",
    "average_ratings = df.groupby('City')['Aggregate rating'].mean()\n",
    "\n",
    "# Output the result\n",
    "print(\"Average rating for restaurants in each city:\")\n",
    "print(round(average_ratings,2))"
   ]
  },
  {
   "cell_type": "markdown",
   "id": "25279c24-7760-42a7-8e7b-b5e8371ed215",
   "metadata": {},
   "source": [
    "**Determine the city with the highest average rating.**"
   ]
  },
  {
   "cell_type": "code",
   "execution_count": 14,
   "id": "d9d6f76d-46a8-4358-8b97-18bf624eb57a",
   "metadata": {},
   "outputs": [
    {
     "name": "stdout",
     "output_type": "stream",
     "text": [
      "The city with the highest average rating is Inner City with an average rating of 4.90.\n"
     ]
    }
   ],
   "source": [
    "# Step 1: Group by city and calculate the average rating\n",
    "average_ratings = df.groupby('City')['Aggregate rating'].mean()\n",
    "\n",
    "# Step 2: Identify the city with the highest average rating\n",
    "city_with_highest_avg_rating = average_ratings.idxmax()\n",
    "highest_avg_rating = average_ratings.max()\n",
    "\n",
    "# Output the result\n",
    "print(f\"The city with the highest average rating is {city_with_highest_avg_rating} with an average rating of {highest_avg_rating:.2f}.\")"
   ]
  },
  {
   "cell_type": "markdown",
   "id": "650cd965-8dea-435d-848a-d6003def6d47",
   "metadata": {},
   "source": [
    "# Task 3: Price range distribution # \n",
    "**Create a histogram or bar chart to visualize the distribution of price ranges among the restaurants.**"
   ]
  },
  {
   "cell_type": "code",
   "execution_count": 15,
   "id": "608cd2cb-a59f-45d9-9ab7-46eb12a2684d",
   "metadata": {},
   "outputs": [
    {
     "data": {
      "image/png": "[encoded data removed]",
      "text/plain": [
       "<Figure size 600x500 with 1 Axes>"
      ]
     },
     "metadata": {},
     "output_type": "display_data"
    }
   ],
   "source": [
    "# Step 1: Count the occurrences of each price range\n",
    "price_range_counts = df['Price range'].value_counts()\n",
    "\n",
    "# Step 2: Create a bar chart\n",
    "plt.figure(figsize=(6, 5))\n",
    "price_range_counts.plot(kind='bar', color='skyblue')\n",
    "plt.title('Distribution of Price Ranges Among Restaurants')\n",
    "plt.xlabel('Price Range')\n",
    "plt.ylabel('Number of Restaurants')\n",
    "plt.xticks(rotation=0)\n",
    "plt.show()"
   ]
  },
  {
   "cell_type": "markdown",
   "id": "b1e3b448-bc36-40e0-b619-3967af30929c",
   "metadata": {},
   "source": [
    "**Calculate the percentage of restaurants in each price range category.**"
   ]
  },
  {
   "cell_type": "code",
   "execution_count": 16,
   "id": "e7f78825-cede-4a09-b88d-11ce5c0fca06",
   "metadata": {},
   "outputs": [
    {
     "name": "stdout",
     "output_type": "stream",
     "text": [
      "Percentage of restaurants in each price range category:\n",
      "Price range\n",
      "1    46.53\n",
      "2    32.59\n",
      "3    14.74\n",
      "4     6.14\n",
      "Name: count, dtype: float64\n"
     ]
    }
   ],
   "source": [
    "# Step 1: Count the number of restaurants in each price range\n",
    "price_range_counts = df['Price range'].value_counts()\n",
    "\n",
    "# Step 2: Calculate the total number of restaurants\n",
    "total_restaurants = len(df)\n",
    "\n",
    "# Step 3: Calculate the percentage of restaurants in each price range\n",
    "price_range_percentages = (price_range_counts / total_restaurants) * 100\n",
    "\n",
    "# Output the result\n",
    "print(\"Percentage of restaurants in each price range category:\")\n",
    "print(round(price_range_percentages,2))"
   ]
  },
  {
   "cell_type": "markdown",
   "id": "d2be5ef5-961f-4334-b088-b334be0be266",
   "metadata": {},
   "source": [
    "# Task 4: Online Delivery #\n",
    "**Determine the percentage of restaurants that offer online delivery.**"
   ]
  },
  {
   "cell_type": "code",
   "execution_count": 17,
   "id": "a9251f9a-feb5-4712-89be-e39713307793",
   "metadata": {},
   "outputs": [
    {
     "name": "stdout",
     "output_type": "stream",
     "text": [
      "The percentage of restaurants that offer online delivery is 25.66%.\n"
     ]
    }
   ],
   "source": [
    "# Step 1: Convert the 'Online_Delivery' column to boolean\n",
    "df['Has Online delivery'] = df['Has Online delivery'].map({'Yes': True, 'No': False})\n",
    "\n",
    "# Step 2: Count the number of restaurants that offer online delivery\n",
    "online_delivery_count = df['Has Online delivery'].sum()\n",
    "\n",
    "# Step 3: Calculate the total number of restaurants\n",
    "total_restaurants = len(df)\n",
    "\n",
    "# Step 4: Calculate the percentage of restaurants offering online delivery\n",
    "percentage_online_delivery = (online_delivery_count / total_restaurants) * 100\n",
    "\n",
    "# Output the result\n",
    "print(f\"The percentage of restaurants that offer online delivery is {percentage_online_delivery:.2f}%.\")"
   ]
  },
  {
   "cell_type": "markdown",
   "id": "bc74cf7e-ee6c-41a1-b177-76bd4dbd4b79",
   "metadata": {},
   "source": [
    "**Compare the average ratings of restaurants with and without online delivery.**"
   ]
  },
  {
   "cell_type": "code",
   "execution_count": 18,
   "id": "134c4793-e454-4c8d-9d85-5e87388831f7",
   "metadata": {},
   "outputs": [
    {
     "name": "stdout",
     "output_type": "stream",
     "text": [
      "Average rating for restaurants with online delivery: 3.25\n",
      "Average rating for restaurants without online delivery: 2.47\n"
     ]
    }
   ],
   "source": [
    "# Step 2: Calculate the average rating for restaurants with online delivery\n",
    "average_rating_with_delivery = df[df['Has Online delivery'] == True]['Aggregate rating'].mean()\n",
    "\n",
    "# Step 3: Calculate the average rating for restaurants without online delivery\n",
    "average_rating_without_delivery = df[df['Has Online delivery'] == False]['Aggregate rating'].mean()\n",
    "\n",
    "# Step 4: Output the comparison\n",
    "print(f\"Average rating for restaurants with online delivery: {average_rating_with_delivery:.2f}\")\n",
    "print(f\"Average rating for restaurants without online delivery: {average_rating_without_delivery:.2f}\")"
   ]
  },
  {
   "cell_type": "code",
   "execution_count": null,
   "id": "f6a23e01-415f-4c68-8e9a-d800980438c2",
   "metadata": {},
   "outputs": [],
   "source": []
  }
 ],
 "metadata": {
  "kernelspec": {
   "display_name": "Python 3 (ipykernel)",
   "language": "python",
   "name": "python3"
  },
  "language_info": {
   "codemirror_mode": {
    "name": "ipython",
    "version": 3
   },
   "file_extension": ".py",
   "mimetype": "text/x-python",
   "name": "python",
   "nbconvert_exporter": "python",
   "pygments_lexer": "ipython3",
   "version": "3.13.1"
  }
 },
 "nbformat": 4,
 "nbformat_minor": 5
}
